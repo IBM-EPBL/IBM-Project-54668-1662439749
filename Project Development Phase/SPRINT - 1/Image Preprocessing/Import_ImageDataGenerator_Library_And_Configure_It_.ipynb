{
  "nbformat": 4,
  "nbformat_minor": 0,
  "metadata": {
    "colab": {
      "provenance": [],
      "collapsed_sections": []
    },
    "kernelspec": {
      "name": "python3",
      "display_name": "Python 3"
    },
    "language_info": {
      "name": "python"
    }
  },
  "cells": [
    {
      "cell_type": "markdown",
      "source": [
        "## IBM Project Name: Real-Time Communication System Powered by AI for Specially Abled"
      ],
      "metadata": {
        "id": "JV9Ix7pmYYIC"
      }
    },
    {
      "cell_type": "markdown",
      "source": [
        "Team Id: PNT2022TMID39106"
      ],
      "metadata": {
        "id": "nMbVeS2WYYKF"
      }
    },
    {
      "cell_type": "markdown",
      "source": [
        "# Image Preprocessing"
      ],
      "metadata": {
        "id": "d6MHHLaUYYLO"
      }
    },
    {
      "cell_type": "markdown",
      "source": [
        "1. Import ImageDataGenerator Library And Configure It"
      ],
      "metadata": {
        "id": "MYZD2vTbY-Xy"
      }
    },
    {
      "cell_type": "code",
      "source": [
        "from tensorflow.keras.preprocessing.image import ImageDataGenerator"
      ],
      "metadata": {
        "id": "tMdsr_4OZUgC"
      },
      "execution_count": 1,
      "outputs": []
    },
    {
      "cell_type": "code",
      "source": [
        "import tensorflow as tf\n",
        "import os\n",
        "from tensorflow.keras.models import Sequential\n",
        "from tensorflow.keras.layers import Dense, Conv2D, Flatten, Dropout, MaxPooling2D\n",
        "from tensorflow.keras.preprocessing.image import ImageDataGenerator\n",
        "import numpy as np\n",
        "import matplotlib.pyplot as plt\n",
        "import IPython.display as display\n",
        "from PIL import Image\n",
        "import pathlib"
      ],
      "metadata": {
        "id": "oq70U6RZZciK"
      },
      "execution_count": 3,
      "outputs": []
    },
    {
      "cell_type": "code",
      "source": [
        "train_datagen = ImageDataGenerator(rescale=1./255,zoom_range=0.2,horizontal_flip=True)"
      ],
      "metadata": {
        "id": "tUNbjZLiZeFK"
      },
      "execution_count": 4,
      "outputs": []
    },
    {
      "cell_type": "code",
      "source": [
        "test_datagen = ImageDataGenerator(rescale=1./255)"
      ],
      "metadata": {
        "id": "OlBwI0EBZeGU"
      },
      "execution_count": 5,
      "outputs": []
    }
  ]
}